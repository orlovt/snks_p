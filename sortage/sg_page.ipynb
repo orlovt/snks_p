{
 "cells": [
  {
   "cell_type": "code",
   "execution_count": 1,
   "metadata": {},
   "outputs": [],
   "source": [
    "import pandas as pd \n",
    "from bs4 import BeautifulSoup\n",
    "import time \n",
    "import requests\n",
    "import warnings\n",
    "\n",
    "#add fake ua \n",
    "from fake_useragent import UserAgent"
   ]
  },
  {
   "cell_type": "code",
   "execution_count": 2,
   "metadata": {},
   "outputs": [],
   "source": [
    "warnings.filterwarnings('ignore')"
   ]
  },
  {
   "cell_type": "code",
   "execution_count": 67,
   "metadata": {},
   "outputs": [
    {
     "name": "stdout",
     "output_type": "stream",
     "text": [
      "Current IP Address: 169.150.232.237\n"
     ]
    }
   ],
   "source": [
    "#for future purposes and ip changes \n",
    "def checkIP():\n",
    "\n",
    "    ip = requests.get('http://checkip.dyndns.org').content\n",
    "    soup = BeautifulSoup(ip, 'html.parser')\n",
    "    print(soup.find('body').text)\n",
    "\n",
    "checkIP()"
   ]
  },
  {
   "cell_type": "code",
   "execution_count": 58,
   "metadata": {},
   "outputs": [],
   "source": [
    "#parses listings on a given page \n",
    "def parse_page(url): \n",
    "    code = requests.get(url).text\n",
    "    soup = BeautifulSoup(code, \"html.parser\")\n",
    "    return soup.find_all(\"div\", class_ = \"card-wrapper underline-links-hover\")"
   ]
  },
  {
   "cell_type": "code",
   "execution_count": 61,
   "metadata": {},
   "outputs": [],
   "source": [
    "#gets attributes of individual listings from a list obj \n",
    "def get_attrs(section): \n",
    "    \n",
    "    sname = section.find(\"div\", class_ = \"caption-with-letter-spacing light\").text + \" \" + section.find(\"h3\").text.strip()\n",
    "    sprice = section.find(\"div\", class_ = \"price__sale\").find(\"span\", class_ = \"price-item price-item--sale price-item--last\").text.strip()[3:-2]\n",
    "    shref = \"https://thesortage.com\" + section.find(\"a\").get(\"href\")\n",
    "    \n",
    "    return {\"name\":sname, \"price\":sprice, \"href\":shref}"
   ]
  },
  {
   "cell_type": "code",
   "execution_count": 68,
   "metadata": {},
   "outputs": [
    {
     "name": "stdout",
     "output_type": "stream",
     "text": [
      "1234567891011121314151617181920212223242526272829303132333435363738394041424344454647484950515253545556575859606162636465666768697071727374"
     ]
    },
    {
     "data": {
      "text/plain": [
       "(1776, 3)"
      ]
     },
     "execution_count": 68,
     "metadata": {},
     "output_type": "execute_result"
    }
   ],
   "source": [
    "#table init \n",
    "df = pd.DataFrame(columns = [\"name\", \"price\", \"href\"])\n",
    "\n",
    "#loop for pages (last one is num 74)\n",
    "for i in range(1,75):\n",
    "    \n",
    "    url = \"https://thesortage.com/collections/all?page=\"+ str(i)\n",
    "    \n",
    "    time.sleep(5)\n",
    "    \n",
    "    listings = parse_page(url)\n",
    "    \n",
    "    #print(i, end = '')\n",
    "    for i in listings: \n",
    "        df = df.append(get_attrs(i), ignore_index=True)\n",
    "\n",
    "#see size of table \n",
    "df.shape"
   ]
  },
  {
   "cell_type": "code",
   "execution_count": 71,
   "metadata": {},
   "outputs": [],
   "source": [
    "df.to_excel(\"sortage.xlsx\")"
   ]
  }
 ],
 "metadata": {
  "kernelspec": {
   "display_name": "Python 3.8.16 ('base')",
   "language": "python",
   "name": "python3"
  },
  "language_info": {
   "codemirror_mode": {
    "name": "ipython",
    "version": 3
   },
   "file_extension": ".py",
   "mimetype": "text/x-python",
   "name": "python",
   "nbconvert_exporter": "python",
   "pygments_lexer": "ipython3",
   "version": "3.8.16"
  },
  "orig_nbformat": 4,
  "vscode": {
   "interpreter": {
    "hash": "299788cdfb4ccb82fb4a8515b6fdc57e1f1020095d820d2e6ce895ac7909e7df"
   }
  }
 },
 "nbformat": 4,
 "nbformat_minor": 2
}
