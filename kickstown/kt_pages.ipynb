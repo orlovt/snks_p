{
 "cells": [
  {
   "cell_type": "code",
   "execution_count": 1,
   "metadata": {},
   "outputs": [],
   "source": [
    "import pandas as pd \n",
    "from bs4 import BeautifulSoup\n",
    "import time \n",
    "import requests\n",
    "import warnings\n",
    "#add fake ua \n",
    "from fake_useragent import UserAgent\n"
   ]
  },
  {
   "cell_type": "code",
   "execution_count": 2,
   "metadata": {},
   "outputs": [],
   "source": [
    "warnings.filterwarnings('ignore')"
   ]
  },
  {
   "cell_type": "code",
   "execution_count": 3,
   "metadata": {},
   "outputs": [
    {
     "name": "stdout",
     "output_type": "stream",
     "text": [
      "Current IP Address: 131.212.250.173\n"
     ]
    }
   ],
   "source": [
    "#for future purposes and ip changes \n",
    "def checkIP():\n",
    "    ip = requests.get('http://checkip.dyndns.org').content\n",
    "    soup = BeautifulSoup(ip, 'html.parser')\n",
    "    print(soup.find('body').text)\n",
    "\n",
    "checkIP()"
   ]
  },
  {
   "cell_type": "code",
   "execution_count": 92,
   "metadata": {},
   "outputs": [],
   "source": [
    "#parses listings on a given page \n",
    "def parse_page(url): \n",
    "    code = requests.get(url).text\n",
    "    soup = BeautifulSoup(code, \"html.parser\")\n",
    "    return soup.find(\"div\", class_ = \"row products_category\").find_all(\"div\", class_= \"product-layout\")\n",
    "\n",
    "#gets attributes of individual listings from a list obj \n",
    "def get_attrs(section): \n",
    "    return {\"name\":section.find(\"a\").find(\"img\").get(\"alt\"), \n",
    "            \"price\":section.find(itemprop = \"price\").get(\"content\"), \n",
    "            \"href\":section.find(\"a\").get(\"href\")}"
   ]
  },
  {
   "cell_type": "code",
   "execution_count": 95,
   "metadata": {},
   "outputs": [
    {
     "data": {
      "text/plain": [
       "(514, 3)"
      ]
     },
     "execution_count": 95,
     "metadata": {},
     "output_type": "execute_result"
    }
   ],
   "source": [
    "#table init \n",
    "df = pd.DataFrame(columns = [\"name\", \"price\", \"href\"])\n",
    "\n",
    "#loop for pages (last one is num 25)\n",
    "for i in range(1,16): \n",
    "    \n",
    "    url= \"https://msc.kickstown.ru/index.php?route=product/category&path=59&page=\" + str(i)\n",
    "    \n",
    "    time.sleep(3)\n",
    "    \n",
    "    listings = parse_page(url)\n",
    "    \n",
    "    for i in listings: \n",
    "        df = df.append(get_attrs(i), ignore_index=True)\n",
    "\n",
    "#see size of table \n",
    "df.shape"
   ]
  },
  {
   "cell_type": "code",
   "execution_count": 96,
   "metadata": {},
   "outputs": [],
   "source": [
    "df.to_excel(\"kickstown.xlsx\")"
   ]
  },
  {
   "cell_type": "code",
   "execution_count": 1,
   "metadata": {},
   "outputs": [
    {
     "ename": "NameError",
     "evalue": "name 'df' is not defined",
     "output_type": "error",
     "traceback": [
      "\u001b[0;31m---------------------------------------------------------------------------\u001b[0m",
      "\u001b[0;31mNameError\u001b[0m                                 Traceback (most recent call last)",
      "Cell \u001b[0;32mIn[1], line 1\u001b[0m\n\u001b[0;32m----> 1\u001b[0m df\n",
      "\u001b[0;31mNameError\u001b[0m: name 'df' is not defined"
     ]
    }
   ],
   "source": [
    "df"
   ]
  },
  {
   "cell_type": "code",
   "execution_count": null,
   "metadata": {},
   "outputs": [],
   "source": []
  }
 ],
 "metadata": {
  "kernelspec": {
   "display_name": "Python 3.8.16 ('base')",
   "language": "python",
   "name": "python3"
  },
  "language_info": {
   "codemirror_mode": {
    "name": "ipython",
    "version": 3
   },
   "file_extension": ".py",
   "mimetype": "text/x-python",
   "name": "python",
   "nbconvert_exporter": "python",
   "pygments_lexer": "ipython3",
   "version": "3.8.16"
  },
  "orig_nbformat": 4,
  "vscode": {
   "interpreter": {
    "hash": "299788cdfb4ccb82fb4a8515b6fdc57e1f1020095d820d2e6ce895ac7909e7df"
   }
  }
 },
 "nbformat": 4,
 "nbformat_minor": 2
}
