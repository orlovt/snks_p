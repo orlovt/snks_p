{
 "cells": [
  {
   "cell_type": "code",
   "execution_count": 2,
   "metadata": {},
   "outputs": [],
   "source": [
    "import pandas as pd \n",
    "from bs4 import BeautifulSoup\n",
    "import time \n",
    "import requests\n",
    "import warnings\n",
    "#add fake ua \n",
    "from fake_useragent import UserAgent\n"
   ]
  },
  {
   "cell_type": "code",
   "execution_count": null,
   "metadata": {},
   "outputs": [],
   "source": [
    "warnings.filterwarnings('ignore')"
   ]
  },
  {
   "cell_type": "code",
   "execution_count": 3,
   "metadata": {},
   "outputs": [
    {
     "name": "stdout",
     "output_type": "stream",
     "text": [
      "Current IP Address: 131.212.250.173\n"
     ]
    }
   ],
   "source": [
    "#for future purposes and ip changes \n",
    "def checkIP():\n",
    "    ip = requests.get('http://checkip.dyndns.org').content\n",
    "    soup = BeautifulSoup(ip, 'html.parser')\n",
    "    print(soup.find('body').text)\n",
    "\n",
    "checkIP()"
   ]
  },
  {
   "cell_type": "code",
   "execution_count": 4,
   "metadata": {},
   "outputs": [],
   "source": [
    "#parses listings on a given page \n",
    "def parse_page(url): \n",
    "    code = requests.get(url).text\n",
    "    soup = BeautifulSoup(code, \"html.parser\")\n",
    "    return soup.find_all(\"article\")\n",
    "\n",
    "#gets attributes of individual listings from a list obj \n",
    "def get_attrs(section): \n",
    "    return {\"name\":section.find(\"h3\").text.strip(), \n",
    "            \"price\":section.find(\"div\").text, \n",
    "            \"href\":section.find(\"h3\").find(\"a\").get('href')}"
   ]
  },
  {
   "cell_type": "code",
   "execution_count": null,
   "metadata": {},
   "outputs": [],
   "source": [
    "#table init \n",
    "df = pd.DataFrame(columns = [\"name\", \"price\", \"href\"])\n",
    "\n",
    "#loop for pages (last one is num 25)\n",
    "for i in range(1,26): \n",
    "    \n",
    "    url = \"https://kicksmania.ru/shop/categories-kicks/page/\" + str(i) + \"/\"\n",
    "    \n",
    "    time.sleep(3)\n",
    "    \n",
    "    listings = parse_page(url)\n",
    "    \n",
    "    for i in listings: \n",
    "        df = df.append(get_attrs(i), ignore_index=True)\n",
    "\n",
    "#see size of table \n",
    "df.shape"
   ]
  },
  {
   "cell_type": "code",
   "execution_count": 12,
   "metadata": {},
   "outputs": [],
   "source": [
    "#save sorted table as xslx file \n",
    "df.sort_values(by = [\"name\"])\n",
    "df.to_excel('kicksmania.xlsx')"
   ]
  }
 ],
 "metadata": {
  "kernelspec": {
   "display_name": "Python 3.8.16 ('base')",
   "language": "python",
   "name": "python3"
  },
  "language_info": {
   "codemirror_mode": {
    "name": "ipython",
    "version": 3
   },
   "file_extension": ".py",
   "mimetype": "text/x-python",
   "name": "python",
   "nbconvert_exporter": "python",
   "pygments_lexer": "ipython3",
   "version": "3.8.16"
  },
  "orig_nbformat": 4,
  "vscode": {
   "interpreter": {
    "hash": "299788cdfb4ccb82fb4a8515b6fdc57e1f1020095d820d2e6ce895ac7909e7df"
   }
  }
 },
 "nbformat": 4,
 "nbformat_minor": 2
}
