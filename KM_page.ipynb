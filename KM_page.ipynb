{
 "cells": [
  {
   "cell_type": "code",
   "execution_count": 2,
   "metadata": {},
   "outputs": [],
   "source": [
    "import pandas as pd \n",
    "from bs4 import BeautifulSoup\n",
    "import time \n",
    "import requests\n",
    "from fake_useragent import UserAgent\n"
   ]
  },
  {
   "cell_type": "code",
   "execution_count": null,
   "metadata": {},
   "outputs": [],
   "source": [
    "import warnings\n",
    "warnings.filterwarnings('ignore')"
   ]
  },
  {
   "cell_type": "code",
   "execution_count": 3,
   "metadata": {},
   "outputs": [
    {
     "name": "stdout",
     "output_type": "stream",
     "text": [
      "Current IP Address: 131.212.250.173\n"
     ]
    }
   ],
   "source": [
    "def checkIP():\n",
    "    ip = requests.get('http://checkip.dyndns.org').content\n",
    "    soup = BeautifulSoup(ip, 'html.parser')\n",
    "    print(soup.find('body').text)\n",
    "\n",
    "checkIP()"
   ]
  },
  {
   "cell_type": "code",
   "execution_count": 4,
   "metadata": {},
   "outputs": [],
   "source": [
    "def parse_page(url): \n",
    "    code = requests.get(url).text\n",
    "    soup = BeautifulSoup(code, \"html.parser\")\n",
    "    return soup.find_all(\"article\")\n",
    "\n",
    "def get_attrs(section): \n",
    "    return {\"name\":section.find(\"h3\").text.strip(), \n",
    "            \"price\":section.find(\"div\").text, \n",
    "            \"href\":section.find(\"h3\").find(\"a\").get('href')}"
   ]
  },
  {
   "cell_type": "code",
   "execution_count": null,
   "metadata": {},
   "outputs": [],
   "source": [
    "df = pd.DataFrame(columns = [\"name\", \"price\", \"href\"])\n",
    "\n",
    "for i in range(1,26): \n",
    "    \n",
    "    url = \"https://kicksmania.ru/shop/categories-kicks/page/\" + str(i) + \"/\"\n",
    "    \n",
    "    time.sleep(3)\n",
    "    \n",
    "    listings = parse_page(url)\n",
    "    \n",
    "    for i in listings: \n",
    "        df = df.append(get_attrs(i), ignore_index=True)\n",
    "\n",
    "df.shape"
   ]
  },
  {
   "cell_type": "code",
   "execution_count": 7,
   "metadata": {},
   "outputs": [],
   "source": [
    "df.to_excel('kicksmania.xlsx')"
   ]
  },
  {
   "cell_type": "code",
   "execution_count": 11,
   "metadata": {},
   "outputs": [
    {
     "data": {
      "text/html": [
       "<div>\n",
       "<style scoped>\n",
       "    .dataframe tbody tr th:only-of-type {\n",
       "        vertical-align: middle;\n",
       "    }\n",
       "\n",
       "    .dataframe tbody tr th {\n",
       "        vertical-align: top;\n",
       "    }\n",
       "\n",
       "    .dataframe thead th {\n",
       "        text-align: right;\n",
       "    }\n",
       "</style>\n",
       "<table border=\"1\" class=\"dataframe\">\n",
       "  <thead>\n",
       "    <tr style=\"text-align: right;\">\n",
       "      <th></th>\n",
       "      <th>name</th>\n",
       "      <th>price</th>\n",
       "      <th>href</th>\n",
       "    </tr>\n",
       "  </thead>\n",
       "  <tbody>\n",
       "    <tr>\n",
       "      <th>192</th>\n",
       "      <td>A Ma Maniere x Air Jordan 1 Retro High</td>\n",
       "      <td>36 900 ₽ – 51 900 ₽</td>\n",
       "      <td>https://kicksmania.ru/product/a-ma-maniere-x-a...</td>\n",
       "    </tr>\n",
       "    <tr>\n",
       "      <th>83</th>\n",
       "      <td>A Ma Maniere x Air Jordan 3</td>\n",
       "      <td>52 900 ₽</td>\n",
       "      <td>https://kicksmania.ru/product/air-jordan-3-x-a...</td>\n",
       "    </tr>\n",
       "    <tr>\n",
       "      <th>0</th>\n",
       "      <td>A Ma Maniére x Air Jordan 4 Violet Ore</td>\n",
       "      <td>60 400 ₽ – 65 900 ₽</td>\n",
       "      <td>https://kicksmania.ru/product/a-ma-maniere-x-a...</td>\n",
       "    </tr>\n",
       "    <tr>\n",
       "      <th>113</th>\n",
       "      <td>Adidas Adilette 22 Black</td>\n",
       "      <td>11 900 ₽ – 19 900 ₽</td>\n",
       "      <td>https://kicksmania.ru/product/adidas-adilette-...</td>\n",
       "    </tr>\n",
       "    <tr>\n",
       "      <th>100</th>\n",
       "      <td>Adidas Adilette 22 Carbon Aluminum</td>\n",
       "      <td>11 900 ₽ – 19 900 ₽</td>\n",
       "      <td>https://kicksmania.ru/product/adidas-adilette-...</td>\n",
       "    </tr>\n",
       "    <tr>\n",
       "      <th>...</th>\n",
       "      <td>...</td>\n",
       "      <td>...</td>\n",
       "      <td>...</td>\n",
       "    </tr>\n",
       "    <tr>\n",
       "      <th>229</th>\n",
       "      <td>Yeezy Slide Pure</td>\n",
       "      <td>34 900 ₽ – 36 900 ₽</td>\n",
       "      <td>https://kicksmania.ru/product/yeezy-slide-pure/</td>\n",
       "    </tr>\n",
       "    <tr>\n",
       "      <th>214</th>\n",
       "      <td>Yeezy Slide Pure V2</td>\n",
       "      <td>27 900 ₽ – 37 900 ₽</td>\n",
       "      <td>https://kicksmania.ru/product/yeezy-slide-pure...</td>\n",
       "    </tr>\n",
       "    <tr>\n",
       "      <th>245</th>\n",
       "      <td>Yeezy Slide Resin</td>\n",
       "      <td>32 900 ₽</td>\n",
       "      <td>https://kicksmania.ru/product/yeezy-slide-resin/</td>\n",
       "    </tr>\n",
       "    <tr>\n",
       "      <th>274</th>\n",
       "      <td>Yeezy Slide Soot</td>\n",
       "      <td>26 900 ₽</td>\n",
       "      <td>https://kicksmania.ru/product/yeezy-slide-soot/</td>\n",
       "    </tr>\n",
       "    <tr>\n",
       "      <th>226</th>\n",
       "      <td>Аэрозоль для замши Renovateur Daim</td>\n",
       "      <td>2 190 ₽</td>\n",
       "      <td>https://kicksmania.ru/product/aerozol-dlya-zam...</td>\n",
       "    </tr>\n",
       "  </tbody>\n",
       "</table>\n",
       "<p>300 rows × 3 columns</p>\n",
       "</div>"
      ],
      "text/plain": [
       "                                       name                price  \\\n",
       "192  A Ma Maniere x Air Jordan 1 Retro High  36 900 ₽ – 51 900 ₽   \n",
       "83              A Ma Maniere x Air Jordan 3             52 900 ₽   \n",
       "0    A Ma Maniére x Air Jordan 4 Violet Ore  60 400 ₽ – 65 900 ₽   \n",
       "113                Adidas Adilette 22 Black  11 900 ₽ – 19 900 ₽   \n",
       "100      Adidas Adilette 22 Carbon Aluminum  11 900 ₽ – 19 900 ₽   \n",
       "..                                      ...                  ...   \n",
       "229                        Yeezy Slide Pure  34 900 ₽ – 36 900 ₽   \n",
       "214                     Yeezy Slide Pure V2  27 900 ₽ – 37 900 ₽   \n",
       "245                       Yeezy Slide Resin             32 900 ₽   \n",
       "274                        Yeezy Slide Soot             26 900 ₽   \n",
       "226      Аэрозоль для замши Renovateur Daim              2 190 ₽   \n",
       "\n",
       "                                                  href  \n",
       "192  https://kicksmania.ru/product/a-ma-maniere-x-a...  \n",
       "83   https://kicksmania.ru/product/air-jordan-3-x-a...  \n",
       "0    https://kicksmania.ru/product/a-ma-maniere-x-a...  \n",
       "113  https://kicksmania.ru/product/adidas-adilette-...  \n",
       "100  https://kicksmania.ru/product/adidas-adilette-...  \n",
       "..                                                 ...  \n",
       "229    https://kicksmania.ru/product/yeezy-slide-pure/  \n",
       "214  https://kicksmania.ru/product/yeezy-slide-pure...  \n",
       "245   https://kicksmania.ru/product/yeezy-slide-resin/  \n",
       "274    https://kicksmania.ru/product/yeezy-slide-soot/  \n",
       "226  https://kicksmania.ru/product/aerozol-dlya-zam...  \n",
       "\n",
       "[300 rows x 3 columns]"
      ]
     },
     "execution_count": 11,
     "metadata": {},
     "output_type": "execute_result"
    }
   ],
   "source": [
    "df.sort_values(by = [\"name\"])"
   ]
  }
 ],
 "metadata": {
  "kernelspec": {
   "display_name": "Python 3.8.16 ('base')",
   "language": "python",
   "name": "python3"
  },
  "language_info": {
   "codemirror_mode": {
    "name": "ipython",
    "version": 3
   },
   "file_extension": ".py",
   "mimetype": "text/x-python",
   "name": "python",
   "nbconvert_exporter": "python",
   "pygments_lexer": "ipython3",
   "version": "3.8.16"
  },
  "orig_nbformat": 4,
  "vscode": {
   "interpreter": {
    "hash": "299788cdfb4ccb82fb4a8515b6fdc57e1f1020095d820d2e6ce895ac7909e7df"
   }
  }
 },
 "nbformat": 4,
 "nbformat_minor": 2
}
